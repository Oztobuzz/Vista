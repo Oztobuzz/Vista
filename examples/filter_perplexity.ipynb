{
  "cells": [
    {
      "cell_type": "markdown",
      "metadata": {
        "id": "nDE5cADnTdY6"
      },
      "source": [
        "# Filtering Perplexity: A Practical Example\n",
        "\n",
        "This code demonstrates a simple technique for filtering perplexity values. Easily adapt it to your own dataset for better analysis and insights.\n",
        "\n"
      ]
    },
    {
      "cell_type": "markdown",
      "metadata": {
        "id": "F0VPqjmQTFVu"
      },
      "source": [
        "## Setup environment and models"
      ]
    },
    {
      "cell_type": "code",
      "execution_count": null,
      "metadata": {
        "id": "0xse6SFZK8k4"
      },
      "outputs": [],
      "source": [
        "!git clone https://github.com/Oztobuzz/Vista.git\n",
        "%cd LVM_news"
      ]
    },
    {
      "cell_type": "code",
      "execution_count": null,
      "metadata": {
        "id": "kWY7e7_qLF3F"
      },
      "outputs": [],
      "source": [
        "!pip install -r requirements.txt\n",
        "!bash scripts/download_sentencepiece_kenlm_model.sh"
      ]
    },
    {
      "cell_type": "code",
      "execution_count": 3,
      "metadata": {
        "id": "ZzNLSxrILL0_"
      },
      "outputs": [],
      "source": [
        "import os\n",
        "current_pwd = os.getcwd()\n",
        "os.environ[\"PYTHONPATH\"] += f\":{current_pwd}\"\n",
        "\n",
        "from datasets import load_dataset\n",
        "from src.perplexity.filtering import FilteringPerplexity"
      ]
    },
    {
      "cell_type": "markdown",
      "metadata": {
        "id": "6rq3xLBmSlrH"
      },
      "source": [
        "## Load Dataset\n",
        "\n",
        "For this example, we'll use the Vista dataset with the vi_llava_conversation subset. You can easily adapt this code to load your own dataset. Make sure your dataset includes a column containing the perplexity values you want to filter."
      ]
    },
    {
      "cell_type": "code",
      "execution_count": 4,
      "metadata": {
        "id": "apVBBThrLW15"
      },
      "outputs": [],
      "source": [
        "# Replace with the actual path to your dataset\n",
        "dataset_name = \"Vi-VLM/Vista\"\n",
        "subset = \"vi_llava_conversation\"  # Turn to None if your data do not have subset\n",
        "\n",
        "dataset = load_dataset(dataset_name, name=subset, split=\"train\")"
      ]
    },
    {
      "cell_type": "markdown",
      "metadata": {
        "id": "Es1-dqb_TL06"
      },
      "source": [
        "## Compute and Filter perplexity"
      ]
    },
    {
      "cell_type": "markdown",
      "metadata": {
        "id": "XSsHdQg7TSer"
      },
      "source": [
        "### Set up the perplexity filter"
      ]
    },
    {
      "cell_type": "code",
      "execution_count": 5,
      "metadata": {
        "id": "HjBMH65iLZ_P"
      },
      "outputs": [],
      "source": [
        "perplexity_filtering = FilteringPerplexity(\n",
        "    sentencepiece_model_path=os.path.join(current_pwd, \"models/vi.sp.model\"),\n",
        "    kenlm_model_path=os.path.join(current_pwd, \"models/vi.arpa.bin\")\n",
        ")"
      ]
    },
    {
      "cell_type": "markdown",
      "metadata": {
        "id": "ZIw2VTGnTYax"
      },
      "source": [
        "### Compute perplexity"
      ]
    },
    {
      "cell_type": "code",
      "execution_count": 6,
      "metadata": {
        "id": "IrpPqsj_TPWd"
      },
      "outputs": [],
      "source": [
        "data_contains_perplex = perplexity_filtering.compute(dataset)"
      ]
    },
    {
      "cell_type": "code",
      "execution_count": 7,
      "metadata": {
        "colab": {
          "base_uri": "https://localhost:8080/"
        },
        "id": "t54BdgjBRs-0",
        "outputId": "37701952-67c1-42d4-eb4e-b179ce45f870"
      },
      "outputs": [
        {
          "data": {
            "text/plain": [
              "Dataset({\n",
              "    features: ['height', 'coco_url', 'date_capture', 'id', 'width', 'conversation', 'captions', 'file_name', 'flickr_url', 'perplexity'],\n",
              "    num_rows: 107052\n",
              "})"
            ]
          },
          "execution_count": 7,
          "metadata": {},
          "output_type": "execute_result"
        }
      ],
      "source": [
        "data_contains_perplex"
      ]
    },
    {
      "cell_type": "markdown",
      "metadata": {
        "id": "CsdT0D7nTaCV"
      },
      "source": [
        "### Filtering perplexity"
      ]
    },
    {
      "cell_type": "code",
      "execution_count": 8,
      "metadata": {
        "id": "YLDf3-8yLpy0"
      },
      "outputs": [],
      "source": [
        "data_filtered = perplexity_filtering.filter(data_contains_perplex, threshold=100)"
      ]
    },
    {
      "cell_type": "code",
      "execution_count": 9,
      "metadata": {
        "colab": {
          "base_uri": "https://localhost:8080/"
        },
        "id": "7qIhfEdGR4NE",
        "outputId": "28a6c7eb-c6f1-4de9-dd3d-a0ab92fa8fb1"
      },
      "outputs": [
        {
          "data": {
            "text/plain": [
              "Dataset({\n",
              "    features: ['height', 'coco_url', 'date_capture', 'id', 'width', 'conversation', 'captions', 'file_name', 'flickr_url', 'perplexity'],\n",
              "    num_rows: 71498\n",
              "})"
            ]
          },
          "execution_count": 9,
          "metadata": {},
          "output_type": "execute_result"
        }
      ],
      "source": [
        "data_filtered"
      ]
    }
  ],
  "metadata": {
    "colab": {
      "name": "scratchpad",
      "provenance": []
    },
    "kernelspec": {
      "display_name": "Python 3",
      "name": "python3"
    }
  },
  "nbformat": 4,
  "nbformat_minor": 0
}
