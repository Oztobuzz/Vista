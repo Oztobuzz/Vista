{
  "cells": [
    {
      "cell_type": "markdown",
      "source": [
        "# Filtering Perplexity: A Practical Example\n",
        "\n",
        "This code demonstrates a simple technique for filtering perplexity values. Easily adapt it to your own dataset for better analysis and insights.\n",
        "\n"
      ],
      "metadata": {
        "id": "nDE5cADnTdY6"
      }
    },
    {
      "cell_type": "markdown",
      "source": [
        "## Setup environment and models"
      ],
      "metadata": {
        "id": "F0VPqjmQTFVu"
      }
    },
    {
      "cell_type": "code",
      "source": [
        "!git clone https://github.com/Oztobuzz/Vista.git\n",
        "%cd LVM_news"
      ],
      "metadata": {
        "id": "0xse6SFZK8k4"
      },
      "execution_count": null,
      "outputs": []
    },
    {
      "cell_type": "code",
      "source": [
        "!pip install -r requirements.txt\n",
        "!bash scripts/download_sentencepiece_kenlm_model.sh"
      ],
      "metadata": {
        "id": "kWY7e7_qLF3F"
      },
      "execution_count": null,
      "outputs": []
    },
    {
      "cell_type": "code",
      "source": [
        "import os\n",
        "current_pwd = os.getcwd()\n",
        "os.environ[\"PYTHONPATH\"] += f\":{current_pwd}\"\n",
        "\n",
        "from datasets import load_dataset\n",
        "from src.perplexity.filtering import FilteringPerplexity"
      ],
      "metadata": {
        "id": "ZzNLSxrILL0_"
      },
      "execution_count": 3,
      "outputs": []
    },
    {
      "cell_type": "markdown",
      "source": [
        "## Load Dataset\n",
        "\n",
        "For this example, we'll use the Vista dataset with the vi_llava_conversation subset. You can easily adapt this code to load your own dataset. Make sure your dataset includes a column containing the perplexity values you want to filter."
      ],
      "metadata": {
        "id": "6rq3xLBmSlrH"
      }
    },
    {
      "cell_type": "code",
      "source": [
        "# Replace with the actual path to your dataset\n",
        "dataset_name = \"Vi-VLM/Vista\"\n",
        "subset = \"vi_llava_conversation\"  # Turn to None if your data do not have subset\n",
        "\n",
        "dataset = load_dataset(dataset_name, name=subset, split=\"train\")"
      ],
      "metadata": {
        "id": "apVBBThrLW15"
      },
      "execution_count": 4,
      "outputs": []
    },
    {
      "cell_type": "markdown",
      "source": [
        "## Compute and Filter perplexity"
      ],
      "metadata": {
        "id": "Es1-dqb_TL06"
      }
    },
    {
      "cell_type": "markdown",
      "source": [
        "### Set up the perplexity filter"
      ],
      "metadata": {
        "id": "XSsHdQg7TSer"
      }
    },
    {
      "cell_type": "code",
      "source": [
        "perplexity_filtering = FilteringPerplexity(\n",
        "    sentencepiece_model_path=os.path.join(current_pwd, \"models/vi.sp.model\"),\n",
        "    kenlm_model_path=os.path.join(current_pwd, \"models/vi.arpa.bin\"),\n",
        "    num_proc=2\n",
        ")"
      ],
      "metadata": {
        "id": "HjBMH65iLZ_P"
      },
      "execution_count": 5,
      "outputs": []
    },
    {
      "cell_type": "markdown",
      "source": [
        "### Compute perplexity"
      ],
      "metadata": {
        "id": "ZIw2VTGnTYax"
      }
    },
    {
      "cell_type": "code",
      "source": [
        "data_contains_perplex = perplexity_filtering.compute(dataset)"
      ],
      "metadata": {
        "id": "IrpPqsj_TPWd"
      },
      "execution_count": 6,
      "outputs": []
    },
    {
      "cell_type": "code",
      "source": [
        "data_contains_perplex"
      ],
      "metadata": {
        "id": "t54BdgjBRs-0",
        "outputId": "37701952-67c1-42d4-eb4e-b179ce45f870",
        "colab": {
          "base_uri": "https://localhost:8080/"
        }
      },
      "execution_count": 7,
      "outputs": [
        {
          "output_type": "execute_result",
          "data": {
            "text/plain": [
              "Dataset({\n",
              "    features: ['height', 'coco_url', 'date_capture', 'id', 'width', 'conversation', 'captions', 'file_name', 'flickr_url', 'perplexity'],\n",
              "    num_rows: 107052\n",
              "})"
            ]
          },
          "metadata": {},
          "execution_count": 7
        }
      ]
    },
    {
      "cell_type": "markdown",
      "source": [
        "### Filtering perplexity"
      ],
      "metadata": {
        "id": "CsdT0D7nTaCV"
      }
    },
    {
      "cell_type": "code",
      "source": [
        "data_filtered = perplexity_filtering.filter(data_contains_perplex, threshold=100)"
      ],
      "metadata": {
        "id": "YLDf3-8yLpy0"
      },
      "execution_count": 8,
      "outputs": []
    },
    {
      "cell_type": "code",
      "source": [
        "data_filtered"
      ],
      "metadata": {
        "id": "7qIhfEdGR4NE",
        "outputId": "28a6c7eb-c6f1-4de9-dd3d-a0ab92fa8fb1",
        "colab": {
          "base_uri": "https://localhost:8080/"
        }
      },
      "execution_count": 9,
      "outputs": [
        {
          "output_type": "execute_result",
          "data": {
            "text/plain": [
              "Dataset({\n",
              "    features: ['height', 'coco_url', 'date_capture', 'id', 'width', 'conversation', 'captions', 'file_name', 'flickr_url', 'perplexity'],\n",
              "    num_rows: 71498\n",
              "})"
            ]
          },
          "metadata": {},
          "execution_count": 9
        }
      ]
    }
  ],
  "metadata": {
    "colab": {
      "name": "scratchpad",
      "provenance": []
    },
    "kernelspec": {
      "display_name": "Python 3",
      "name": "python3"
    }
  },
  "nbformat": 4,
  "nbformat_minor": 0
}